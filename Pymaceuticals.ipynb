{
 "cells": [
  {
   "attachments": {},
   "cell_type": "markdown",
   "id": "e60f92e0-76ce-4f79-951f-196d81e49a6b",
   "metadata": {},
   "source": [
    "# Pymaceuticals Inc.\n",
    "---\n",
    "\n",
    "### Analysis\n",
    "\n",
    "- Add your analysis here.\n",
    " "
   ]
  },
  {
   "cell_type": "code",
   "execution_count": 50,
   "id": "78e4b514-c575-4853-ac7e-55c42a349b7d",
   "metadata": {},
   "outputs": [
    {
     "data": {
      "text/html": [
       "<div>\n",
       "<style scoped>\n",
       "    .dataframe tbody tr th:only-of-type {\n",
       "        vertical-align: middle;\n",
       "    }\n",
       "\n",
       "    .dataframe tbody tr th {\n",
       "        vertical-align: top;\n",
       "    }\n",
       "\n",
       "    .dataframe thead th {\n",
       "        text-align: right;\n",
       "    }\n",
       "</style>\n",
       "<table border=\"1\" class=\"dataframe\">\n",
       "  <thead>\n",
       "    <tr style=\"text-align: right;\">\n",
       "      <th></th>\n",
       "      <th>Mouse ID</th>\n",
       "      <th>Timepoint</th>\n",
       "      <th>Tumor Volume (mm3)</th>\n",
       "      <th>Metastatic Sites</th>\n",
       "      <th>Drug Regimen</th>\n",
       "      <th>Sex</th>\n",
       "      <th>Age_months</th>\n",
       "      <th>Weight (g)</th>\n",
       "    </tr>\n",
       "  </thead>\n",
       "  <tbody>\n",
       "    <tr>\n",
       "      <th>0</th>\n",
       "      <td>k403</td>\n",
       "      <td>0</td>\n",
       "      <td>45.000000</td>\n",
       "      <td>0</td>\n",
       "      <td>Ramicane</td>\n",
       "      <td>Male</td>\n",
       "      <td>21</td>\n",
       "      <td>16</td>\n",
       "    </tr>\n",
       "    <tr>\n",
       "      <th>1</th>\n",
       "      <td>k403</td>\n",
       "      <td>5</td>\n",
       "      <td>38.825898</td>\n",
       "      <td>0</td>\n",
       "      <td>Ramicane</td>\n",
       "      <td>Male</td>\n",
       "      <td>21</td>\n",
       "      <td>16</td>\n",
       "    </tr>\n",
       "    <tr>\n",
       "      <th>2</th>\n",
       "      <td>k403</td>\n",
       "      <td>10</td>\n",
       "      <td>35.014271</td>\n",
       "      <td>1</td>\n",
       "      <td>Ramicane</td>\n",
       "      <td>Male</td>\n",
       "      <td>21</td>\n",
       "      <td>16</td>\n",
       "    </tr>\n",
       "    <tr>\n",
       "      <th>3</th>\n",
       "      <td>k403</td>\n",
       "      <td>15</td>\n",
       "      <td>34.223992</td>\n",
       "      <td>1</td>\n",
       "      <td>Ramicane</td>\n",
       "      <td>Male</td>\n",
       "      <td>21</td>\n",
       "      <td>16</td>\n",
       "    </tr>\n",
       "    <tr>\n",
       "      <th>4</th>\n",
       "      <td>k403</td>\n",
       "      <td>20</td>\n",
       "      <td>32.997729</td>\n",
       "      <td>1</td>\n",
       "      <td>Ramicane</td>\n",
       "      <td>Male</td>\n",
       "      <td>21</td>\n",
       "      <td>16</td>\n",
       "    </tr>\n",
       "  </tbody>\n",
       "</table>\n",
       "</div>"
      ],
      "text/plain": [
       "  Mouse ID  Timepoint  Tumor Volume (mm3)  Metastatic Sites Drug Regimen  \\\n",
       "0     k403          0           45.000000                 0     Ramicane   \n",
       "1     k403          5           38.825898                 0     Ramicane   \n",
       "2     k403         10           35.014271                 1     Ramicane   \n",
       "3     k403         15           34.223992                 1     Ramicane   \n",
       "4     k403         20           32.997729                 1     Ramicane   \n",
       "\n",
       "    Sex  Age_months  Weight (g)  \n",
       "0  Male          21          16  \n",
       "1  Male          21          16  \n",
       "2  Male          21          16  \n",
       "3  Male          21          16  \n",
       "4  Male          21          16  "
      ]
     },
     "execution_count": 50,
     "metadata": {},
     "output_type": "execute_result"
    }
   ],
   "source": [
    "# Dependencies and Setup\n",
    "import matplotlib.pyplot as plt\n",
    "import pandas as pd\n",
    "import scipy.stats as st\n",
    "\n",
    "# Study data files\n",
    "mouse_metadata_path = \"data/Mouse_metadata.csv\"\n",
    "study_results_path = \"data/Study_results.csv\"\n",
    "\n",
    "# Read the mouse data and the study results\n",
    "mouse_metadata = pd.read_csv(mouse_metadata_path)\n",
    "study_results = pd.read_csv(study_results_path)\n",
    "\n",
    "# Combine the data into a single DataFrame\n",
    "combined_data = pd.merge(mouse_metadata, study_results, on='Mouse ID')\n",
    "\n",
    "# Adjust Column orders:\n",
    "desired_column_order = ['Mouse ID', 'Timepoint', 'Tumor Volume (mm3)', 'Metastatic Sites','Drug Regimen','Sex','Age_months','Weight (g)']\n",
    "Adjusted_df = combined_data[desired_column_order]\n",
    "\n",
    "Adjusted_df.head()"
   ]
  },
  {
   "cell_type": "code",
   "execution_count": 37,
   "id": "96b8eca5-a766-4a33-8d05-1596fd90e6d7",
   "metadata": {},
   "outputs": [
    {
     "data": {
      "text/plain": [
       "249"
      ]
     },
     "execution_count": 37,
     "metadata": {},
     "output_type": "execute_result"
    }
   ],
   "source": [
    "# Display the number of unique mice IDs in the data\n",
    "\n",
    "unique_mouse_ids = combined_data['Mouse ID'].nunique()\n",
    "unique_mouse_ids"
   ]
  },
  {
   "cell_type": "code",
   "execution_count": 38,
   "id": "5e4f7365-a146-451a-b3d9-ea2ad8203572",
   "metadata": {},
   "outputs": [
    {
     "data": {
      "text/plain": [
       "array(['g989'], dtype=object)"
      ]
     },
     "execution_count": 38,
     "metadata": {},
     "output_type": "execute_result"
    }
   ],
   "source": [
    "# check for any mouse ID with duplicate time points.\n",
    "\n",
    "duplicate_ids = combined_data[combined_data.duplicated(subset=['Mouse ID', 'Timepoint'])]['Mouse ID'].unique()\n",
    "duplicate_ids"
   ]
  },
  {
   "cell_type": "code",
   "execution_count": 52,
   "id": "00d32203-2d1b-42af-9bac-052c2b54ff2c",
   "metadata": {},
   "outputs": [
    {
     "data": {
      "text/html": [
       "<div>\n",
       "<style scoped>\n",
       "    .dataframe tbody tr th:only-of-type {\n",
       "        vertical-align: middle;\n",
       "    }\n",
       "\n",
       "    .dataframe tbody tr th {\n",
       "        vertical-align: top;\n",
       "    }\n",
       "\n",
       "    .dataframe thead th {\n",
       "        text-align: right;\n",
       "    }\n",
       "</style>\n",
       "<table border=\"1\" class=\"dataframe\">\n",
       "  <thead>\n",
       "    <tr style=\"text-align: right;\">\n",
       "      <th></th>\n",
       "      <th>Mouse ID</th>\n",
       "      <th>Timepoint</th>\n",
       "      <th>Tumor Volume (mm3)</th>\n",
       "      <th>Metastatic Sites</th>\n",
       "      <th>Drug Regimen</th>\n",
       "      <th>Sex</th>\n",
       "      <th>Age_months</th>\n",
       "      <th>Weight (g)</th>\n",
       "    </tr>\n",
       "  </thead>\n",
       "  <tbody>\n",
       "    <tr>\n",
       "      <th>908</th>\n",
       "      <td>g989</td>\n",
       "      <td>0</td>\n",
       "      <td>45.000000</td>\n",
       "      <td>0</td>\n",
       "      <td>Propriva</td>\n",
       "      <td>Female</td>\n",
       "      <td>21</td>\n",
       "      <td>26</td>\n",
       "    </tr>\n",
       "    <tr>\n",
       "      <th>909</th>\n",
       "      <td>g989</td>\n",
       "      <td>0</td>\n",
       "      <td>45.000000</td>\n",
       "      <td>0</td>\n",
       "      <td>Propriva</td>\n",
       "      <td>Female</td>\n",
       "      <td>21</td>\n",
       "      <td>26</td>\n",
       "    </tr>\n",
       "    <tr>\n",
       "      <th>910</th>\n",
       "      <td>g989</td>\n",
       "      <td>5</td>\n",
       "      <td>48.786801</td>\n",
       "      <td>0</td>\n",
       "      <td>Propriva</td>\n",
       "      <td>Female</td>\n",
       "      <td>21</td>\n",
       "      <td>26</td>\n",
       "    </tr>\n",
       "    <tr>\n",
       "      <th>911</th>\n",
       "      <td>g989</td>\n",
       "      <td>5</td>\n",
       "      <td>47.570392</td>\n",
       "      <td>0</td>\n",
       "      <td>Propriva</td>\n",
       "      <td>Female</td>\n",
       "      <td>21</td>\n",
       "      <td>26</td>\n",
       "    </tr>\n",
       "    <tr>\n",
       "      <th>912</th>\n",
       "      <td>g989</td>\n",
       "      <td>10</td>\n",
       "      <td>51.745156</td>\n",
       "      <td>0</td>\n",
       "      <td>Propriva</td>\n",
       "      <td>Female</td>\n",
       "      <td>21</td>\n",
       "      <td>26</td>\n",
       "    </tr>\n",
       "    <tr>\n",
       "      <th>913</th>\n",
       "      <td>g989</td>\n",
       "      <td>10</td>\n",
       "      <td>49.880528</td>\n",
       "      <td>0</td>\n",
       "      <td>Propriva</td>\n",
       "      <td>Female</td>\n",
       "      <td>21</td>\n",
       "      <td>26</td>\n",
       "    </tr>\n",
       "    <tr>\n",
       "      <th>914</th>\n",
       "      <td>g989</td>\n",
       "      <td>15</td>\n",
       "      <td>51.325852</td>\n",
       "      <td>1</td>\n",
       "      <td>Propriva</td>\n",
       "      <td>Female</td>\n",
       "      <td>21</td>\n",
       "      <td>26</td>\n",
       "    </tr>\n",
       "    <tr>\n",
       "      <th>915</th>\n",
       "      <td>g989</td>\n",
       "      <td>15</td>\n",
       "      <td>53.442020</td>\n",
       "      <td>0</td>\n",
       "      <td>Propriva</td>\n",
       "      <td>Female</td>\n",
       "      <td>21</td>\n",
       "      <td>26</td>\n",
       "    </tr>\n",
       "    <tr>\n",
       "      <th>916</th>\n",
       "      <td>g989</td>\n",
       "      <td>20</td>\n",
       "      <td>55.326122</td>\n",
       "      <td>1</td>\n",
       "      <td>Propriva</td>\n",
       "      <td>Female</td>\n",
       "      <td>21</td>\n",
       "      <td>26</td>\n",
       "    </tr>\n",
       "    <tr>\n",
       "      <th>917</th>\n",
       "      <td>g989</td>\n",
       "      <td>20</td>\n",
       "      <td>54.657650</td>\n",
       "      <td>1</td>\n",
       "      <td>Propriva</td>\n",
       "      <td>Female</td>\n",
       "      <td>21</td>\n",
       "      <td>26</td>\n",
       "    </tr>\n",
       "    <tr>\n",
       "      <th>918</th>\n",
       "      <td>g989</td>\n",
       "      <td>25</td>\n",
       "      <td>56.045564</td>\n",
       "      <td>1</td>\n",
       "      <td>Propriva</td>\n",
       "      <td>Female</td>\n",
       "      <td>21</td>\n",
       "      <td>26</td>\n",
       "    </tr>\n",
       "    <tr>\n",
       "      <th>919</th>\n",
       "      <td>g989</td>\n",
       "      <td>30</td>\n",
       "      <td>59.082294</td>\n",
       "      <td>1</td>\n",
       "      <td>Propriva</td>\n",
       "      <td>Female</td>\n",
       "      <td>21</td>\n",
       "      <td>26</td>\n",
       "    </tr>\n",
       "    <tr>\n",
       "      <th>920</th>\n",
       "      <td>g989</td>\n",
       "      <td>35</td>\n",
       "      <td>62.570880</td>\n",
       "      <td>2</td>\n",
       "      <td>Propriva</td>\n",
       "      <td>Female</td>\n",
       "      <td>21</td>\n",
       "      <td>26</td>\n",
       "    </tr>\n",
       "  </tbody>\n",
       "</table>\n",
       "</div>"
      ],
      "text/plain": [
       "    Mouse ID  Timepoint  Tumor Volume (mm3)  Metastatic Sites Drug Regimen  \\\n",
       "908     g989          0           45.000000                 0     Propriva   \n",
       "909     g989          0           45.000000                 0     Propriva   \n",
       "910     g989          5           48.786801                 0     Propriva   \n",
       "911     g989          5           47.570392                 0     Propriva   \n",
       "912     g989         10           51.745156                 0     Propriva   \n",
       "913     g989         10           49.880528                 0     Propriva   \n",
       "914     g989         15           51.325852                 1     Propriva   \n",
       "915     g989         15           53.442020                 0     Propriva   \n",
       "916     g989         20           55.326122                 1     Propriva   \n",
       "917     g989         20           54.657650                 1     Propriva   \n",
       "918     g989         25           56.045564                 1     Propriva   \n",
       "919     g989         30           59.082294                 1     Propriva   \n",
       "920     g989         35           62.570880                 2     Propriva   \n",
       "\n",
       "        Sex  Age_months  Weight (g)  \n",
       "908  Female          21          26  \n",
       "909  Female          21          26  \n",
       "910  Female          21          26  \n",
       "911  Female          21          26  \n",
       "912  Female          21          26  \n",
       "913  Female          21          26  \n",
       "914  Female          21          26  \n",
       "915  Female          21          26  \n",
       "916  Female          21          26  \n",
       "917  Female          21          26  \n",
       "918  Female          21          26  \n",
       "919  Female          21          26  \n",
       "920  Female          21          26  "
      ]
     },
     "execution_count": 52,
     "metadata": {},
     "output_type": "execute_result"
    }
   ],
   "source": [
    "# Get the duplicate mice by ID number that shows up for Mouse ID and Timepoint. \n",
    "duplicate_mouse_data = Adjusted_df[Adjusted_df['Mouse ID'].isin(duplicate_ids)]\n",
    "\n",
    "# Optional: Get all the data for the duplicate mouse ID. \n",
    "duplicate_mouse_data"
   ]
  },
  {
   "cell_type": "code",
   "execution_count": 53,
   "id": "be671f28-6d1c-4bc1-8ff0-45ae2eed0ae7",
   "metadata": {},
   "outputs": [
    {
     "data": {
      "text/html": [
       "<div>\n",
       "<style scoped>\n",
       "    .dataframe tbody tr th:only-of-type {\n",
       "        vertical-align: middle;\n",
       "    }\n",
       "\n",
       "    .dataframe tbody tr th {\n",
       "        vertical-align: top;\n",
       "    }\n",
       "\n",
       "    .dataframe thead th {\n",
       "        text-align: right;\n",
       "    }\n",
       "</style>\n",
       "<table border=\"1\" class=\"dataframe\">\n",
       "  <thead>\n",
       "    <tr style=\"text-align: right;\">\n",
       "      <th></th>\n",
       "      <th>Mouse ID</th>\n",
       "      <th>Timepoint</th>\n",
       "      <th>Tumor Volume (mm3)</th>\n",
       "      <th>Metastatic Sites</th>\n",
       "      <th>Drug Regimen</th>\n",
       "      <th>Sex</th>\n",
       "      <th>Age_months</th>\n",
       "      <th>Weight (g)</th>\n",
       "    </tr>\n",
       "  </thead>\n",
       "  <tbody>\n",
       "    <tr>\n",
       "      <th>0</th>\n",
       "      <td>k403</td>\n",
       "      <td>0</td>\n",
       "      <td>45.000000</td>\n",
       "      <td>0</td>\n",
       "      <td>Ramicane</td>\n",
       "      <td>Male</td>\n",
       "      <td>21</td>\n",
       "      <td>16</td>\n",
       "    </tr>\n",
       "    <tr>\n",
       "      <th>1</th>\n",
       "      <td>k403</td>\n",
       "      <td>5</td>\n",
       "      <td>38.825898</td>\n",
       "      <td>0</td>\n",
       "      <td>Ramicane</td>\n",
       "      <td>Male</td>\n",
       "      <td>21</td>\n",
       "      <td>16</td>\n",
       "    </tr>\n",
       "    <tr>\n",
       "      <th>2</th>\n",
       "      <td>k403</td>\n",
       "      <td>10</td>\n",
       "      <td>35.014271</td>\n",
       "      <td>1</td>\n",
       "      <td>Ramicane</td>\n",
       "      <td>Male</td>\n",
       "      <td>21</td>\n",
       "      <td>16</td>\n",
       "    </tr>\n",
       "    <tr>\n",
       "      <th>3</th>\n",
       "      <td>k403</td>\n",
       "      <td>15</td>\n",
       "      <td>34.223992</td>\n",
       "      <td>1</td>\n",
       "      <td>Ramicane</td>\n",
       "      <td>Male</td>\n",
       "      <td>21</td>\n",
       "      <td>16</td>\n",
       "    </tr>\n",
       "    <tr>\n",
       "      <th>4</th>\n",
       "      <td>k403</td>\n",
       "      <td>20</td>\n",
       "      <td>32.997729</td>\n",
       "      <td>1</td>\n",
       "      <td>Ramicane</td>\n",
       "      <td>Male</td>\n",
       "      <td>21</td>\n",
       "      <td>16</td>\n",
       "    </tr>\n",
       "  </tbody>\n",
       "</table>\n",
       "</div>"
      ],
      "text/plain": [
       "  Mouse ID  Timepoint  Tumor Volume (mm3)  Metastatic Sites Drug Regimen  \\\n",
       "0     k403          0           45.000000                 0     Ramicane   \n",
       "1     k403          5           38.825898                 0     Ramicane   \n",
       "2     k403         10           35.014271                 1     Ramicane   \n",
       "3     k403         15           34.223992                 1     Ramicane   \n",
       "4     k403         20           32.997729                 1     Ramicane   \n",
       "\n",
       "    Sex  Age_months  Weight (g)  \n",
       "0  Male          21          16  \n",
       "1  Male          21          16  \n",
       "2  Male          21          16  \n",
       "3  Male          21          16  \n",
       "4  Male          21          16  "
      ]
     },
     "execution_count": 53,
     "metadata": {},
     "output_type": "execute_result"
    }
   ],
   "source": [
    "# Create a clean DataFrame by dropping the duplicate mouse by its ID.\n",
    "# Mouse ID to be removed\n",
    "duplicate_mouse_id = 'g989'\n",
    "\n",
    "# Creating a clean DataFrame by dropping all data for the duplicate mouse ID\n",
    "cleaned_data = Adjusted_df[Adjusted_df['Mouse ID'] != duplicate_mouse_id]\n",
    "cleaned_data.head()"
   ]
  },
  {
   "cell_type": "code",
   "execution_count": 55,
   "id": "287c1b70-82a4-468a-b4c8-b94baac8a6eb",
   "metadata": {},
   "outputs": [
    {
     "data": {
      "text/plain": [
       "248"
      ]
     },
     "execution_count": 55,
     "metadata": {},
     "output_type": "execute_result"
    }
   ],
   "source": [
    "# Checking the number of mice in the clean DataFrame.\n",
    "unique_clean_mouse_ids = cleaned_data['Mouse ID'].nunique()\n",
    "unique_clean_mouse_ids"
   ]
  },
  {
   "cell_type": "markdown",
   "id": "930bacd3-1833-4aa7-9d51-fa7e7cf0c140",
   "metadata": {},
   "source": [
    "## Summary Statistics"
   ]
  },
  {
   "cell_type": "code",
   "execution_count": 84,
   "id": "8c68b5fb-f7d5-48b0-b1e1-e2d5e74ee51a",
   "metadata": {},
   "outputs": [
    {
     "data": {
      "text/plain": [
       "Drug Regimen\n",
       "Capomulin    40.675741\n",
       "Ceftamin     52.591172\n",
       "Infubinol    52.884795\n",
       "Ketapril     55.235638\n",
       "Naftisol     54.331565\n",
       "Placebo      54.033581\n",
       "Propriva     52.322552\n",
       "Ramicane     40.216745\n",
       "Stelasyn     54.233149\n",
       "Zoniferol    53.236507\n",
       "Name: Tumor Volume (mm3), dtype: float64"
      ]
     },
     "execution_count": 84,
     "metadata": {},
     "output_type": "execute_result"
    }
   ],
   "source": [
    "#The mean of the tumor volume for each regimen is calculated using groupby.\n",
    "mean = df.groupby('Drug Regimen')['Tumor Volume (mm3)'].mean()\n",
    "mean"
   ]
  },
  {
   "cell_type": "code",
   "execution_count": 77,
   "id": "b9bd16de-c7b1-43c0-95bc-a18bd7249219",
   "metadata": {},
   "outputs": [
    {
     "data": {
      "text/plain": [
       "Drug Regimen\n",
       "Capomulin    41.557809\n",
       "Ceftamin     51.776157\n",
       "Infubinol    51.820584\n",
       "Ketapril     53.698743\n",
       "Naftisol     52.509285\n",
       "Placebo      52.288934\n",
       "Propriva     50.854632\n",
       "Ramicane     40.673236\n",
       "Stelasyn     52.431737\n",
       "Zoniferol    51.818479\n",
       "Name: Tumor Volume (mm3), dtype: float64"
      ]
     },
     "execution_count": 77,
     "metadata": {},
     "output_type": "execute_result"
    }
   ],
   "source": [
    "# The median of the tumor volume for each regimen is calculated using groupby. \n",
    "median =df.groupby('Drug Regimen')['Tumor Volume (mm3)'].median()\n",
    "median"
   ]
  },
  {
   "cell_type": "code",
   "execution_count": 81,
   "id": "37dc001a-a870-4bcd-af9a-b2f71d7c9186",
   "metadata": {},
   "outputs": [
    {
     "data": {
      "text/plain": [
       "Drug Regimen\n",
       "Capomulin    24.947764\n",
       "Ceftamin     39.290177\n",
       "Infubinol    43.128684\n",
       "Ketapril     68.553577\n",
       "Naftisol     66.173479\n",
       "Placebo      61.168083\n",
       "Propriva     42.351070\n",
       "Ramicane     23.486704\n",
       "Stelasyn     59.450562\n",
       "Zoniferol    48.533355\n",
       "Name: Tumor Volume (mm3), dtype: float64"
      ]
     },
     "execution_count": 81,
     "metadata": {},
     "output_type": "execute_result"
    }
   ],
   "source": [
    "# The variance of the tumor volume for each regimen is calculated using groupby. \n",
    "variance =df.groupby('Drug Regimen')['Tumor Volume (mm3)'].var()\n",
    "variance"
   ]
  },
  {
   "cell_type": "code",
   "execution_count": 82,
   "id": "e2bc5662-10e4-4b66-b23f-7c6ac5b15bb2",
   "metadata": {},
   "outputs": [
    {
     "data": {
      "text/plain": [
       "Drug Regimen\n",
       "Capomulin    4.994774\n",
       "Ceftamin     6.268188\n",
       "Infubinol    6.567243\n",
       "Ketapril     8.279709\n",
       "Naftisol     8.134708\n",
       "Placebo      7.821003\n",
       "Propriva     6.507770\n",
       "Ramicane     4.846308\n",
       "Stelasyn     7.710419\n",
       "Zoniferol    6.966589\n",
       "Name: Tumor Volume (mm3), dtype: float64"
      ]
     },
     "execution_count": 82,
     "metadata": {},
     "output_type": "execute_result"
    }
   ],
   "source": [
    "# The standard deviation of the tumor volume for each regimen is calculated using groupby. \n",
    "STD = df.groupby('Drug Regimen')['Tumor Volume (mm3)'].std()\n",
    "STD   "
   ]
  },
  {
   "cell_type": "code",
   "execution_count": 83,
   "id": "815e7a04-19c4-4002-9fa8-a4430845b2ea",
   "metadata": {},
   "outputs": [
    {
     "data": {
      "text/plain": [
       "Drug Regimen\n",
       "Capomulin    0.329346\n",
       "Ceftamin     0.469821\n",
       "Infubinol    0.492236\n",
       "Ketapril     0.603860\n",
       "Naftisol     0.596466\n",
       "Placebo      0.581331\n",
       "Propriva     0.512884\n",
       "Ramicane     0.320955\n",
       "Stelasyn     0.573111\n",
       "Zoniferol    0.516398\n",
       "Name: Tumor Volume (mm3), dtype: float64"
      ]
     },
     "execution_count": 83,
     "metadata": {},
     "output_type": "execute_result"
    }
   ],
   "source": [
    "# The SEM of the tumor volume for each regimen is calculated using groupby. \n",
    "SEM = df.groupby('Drug Regimen')['Tumor Volume (mm3)'].sem()\n",
    "SEM"
   ]
  },
  {
   "cell_type": "markdown",
   "id": "d62b8778-f101-4d80-97e5-4467480d97f9",
   "metadata": {},
   "source": [
    "## Bar and Pie Charts"
   ]
  },
  {
   "cell_type": "code",
   "execution_count": 94,
   "id": "01c1406d-8803-42d6-8801-5b4845dfb77a",
   "metadata": {},
   "outputs": [
    {
     "data": {
      "image/png": "[encoded data removed]",
      "text/plain": [
       "<Figure size 640x480 with 1 Axes>"
      ]
     },
     "metadata": {},
     "output_type": "display_data"
    }
   ],
   "source": [
    "# Generate a bar plot showing the total number of rows (Mouse ID/Timepoints) for each drug regimen using Pandas.\n",
    "\n",
    "# Create a bar plot using Pandas\n",
    "regimen_counts.plot(kind='bar', title='Total Number of Rows for Each Drug Regimen')\n",
    "\n",
    "# Add labels to the axes\n",
    "plt.xlabel('Drug Regimen')\n",
    "plt.ylabel('Number of Rows')\n",
    "\n",
    "# Show the plot\n",
    "plt.show()\n",
    "\n"
   ]
  },
  {
   "cell_type": "code",
   "execution_count": 98,
   "id": "992475ad-fb78-4a07-8109-e02fab14e445",
   "metadata": {},
   "outputs": [
    {
     "data": {
      "image/png": "[encoded data removed]",
      "text/plain": [
       "<Figure size 640x480 with 1 Axes>"
      ]
     },
     "metadata": {},
     "output_type": "display_data"
    }
   ],
   "source": [
    "# A bar plot showing the total number of timepoints for all mice tested for each drug regimen using pyplot is generated. \n",
    "\n",
    "import numpy as np\n",
    "import matplotlib.pyplot as plt\n",
    "\n",
    "# Counting the occurrences of each drug regimen\n",
    "regimen_counts = cleaned_data['Drug Regimen'].value_counts()\n",
    "\n",
    "# Setting up x-axis and tick locations\n",
    "x_axis = np.arange(len(regimen_counts))\n",
    "tick_locations = [value for value in x_axis]\n",
    "\n",
    "# Creating the bar plot\n",
    "plt.bar(x_axis, regimen_counts)\n",
    "plt.xticks(tick_locations, regimen_counts.index, rotation='vertical')\n",
    "\n",
    "# Adding labels and title\n",
    "plt.xlabel('Drug Regimen')\n",
    "plt.ylabel('Number of Rows')\n",
    "plt.title('Total Number of Rows for Each Drug Regimen')\n",
    "\n",
    "# Display the plot\n",
    "plt.show()"
   ]
  },
  {
   "cell_type": "code",
   "execution_count": 100,
   "id": "12084db1-15a8-432d-87bb-1f882e47b89d",
   "metadata": {},
   "outputs": [
    {
     "data": {
      "image/png": "[encoded data removed]",
      "text/plain": [
       "<Figure size 640x480 with 1 Axes>"
      ]
     },
     "metadata": {},
     "output_type": "display_data"
    }
   ],
   "source": [
    "# A pie plot showing the distribution of female versus male mice using pyplot is generated. # Counting the number of female and male mice\n",
    "\n",
    "sex_distribution = cleaned_data['Sex'].value_counts()\n",
    "import matplotlib.pyplot as plt\n",
    "\n",
    "# Data for pie chart\n",
    "sizes = sex_distribution.values\n",
    "labels = sex_distribution.index\n",
    "\n",
    "# Creating the pie chart\n",
    "plt.pie(sizes, labels=labels, autopct='%1.1f%%')\n",
    "\n",
    "# Adding a title\n",
    "plt.title('Distribution of Female vs Male Mice')\n",
    "\n",
    "# Show the plot\n",
    "plt.show()\n"
   ]
  },
  {
   "cell_type": "markdown",
   "id": "ed72a757-a53d-49b1-9d3c-dbafd3efd424",
   "metadata": {},
   "source": [
    "## Quartiles, Outliers and Boxplots"
   ]
  },
  {
   "cell_type": "code",
   "execution_count": 110,
   "id": "e0a32645-0618-4c70-afb0-f700bb7dbbc0",
   "metadata": {},
   "outputs": [
    {
     "data": {
      "text/html": [
       "<div>\n",
       "<style scoped>\n",
       "    .dataframe tbody tr th:only-of-type {\n",
       "        vertical-align: middle;\n",
       "    }\n",
       "\n",
       "    .dataframe tbody tr th {\n",
       "        vertical-align: top;\n",
       "    }\n",
       "\n",
       "    .dataframe thead th {\n",
       "        text-align: right;\n",
       "    }\n",
       "</style>\n",
       "<table border=\"1\" class=\"dataframe\">\n",
       "  <thead>\n",
       "    <tr style=\"text-align: right;\">\n",
       "      <th></th>\n",
       "      <th>Mouse ID</th>\n",
       "      <th>Timepoint</th>\n",
       "    </tr>\n",
       "  </thead>\n",
       "  <tbody>\n",
       "    <tr>\n",
       "      <th>0</th>\n",
       "      <td>a203</td>\n",
       "      <td>45</td>\n",
       "    </tr>\n",
       "    <tr>\n",
       "      <th>1</th>\n",
       "      <td>a251</td>\n",
       "      <td>45</td>\n",
       "    </tr>\n",
       "    <tr>\n",
       "      <th>2</th>\n",
       "      <td>a262</td>\n",
       "      <td>45</td>\n",
       "    </tr>\n",
       "    <tr>\n",
       "      <th>3</th>\n",
       "      <td>a275</td>\n",
       "      <td>45</td>\n",
       "    </tr>\n",
       "    <tr>\n",
       "      <th>4</th>\n",
       "      <td>a366</td>\n",
       "      <td>30</td>\n",
       "    </tr>\n",
       "    <tr>\n",
       "      <th>...</th>\n",
       "      <td>...</td>\n",
       "      <td>...</td>\n",
       "    </tr>\n",
       "    <tr>\n",
       "      <th>243</th>\n",
       "      <td>z435</td>\n",
       "      <td>10</td>\n",
       "    </tr>\n",
       "    <tr>\n",
       "      <th>244</th>\n",
       "      <td>z578</td>\n",
       "      <td>45</td>\n",
       "    </tr>\n",
       "    <tr>\n",
       "      <th>245</th>\n",
       "      <td>z581</td>\n",
       "      <td>45</td>\n",
       "    </tr>\n",
       "    <tr>\n",
       "      <th>246</th>\n",
       "      <td>z795</td>\n",
       "      <td>45</td>\n",
       "    </tr>\n",
       "    <tr>\n",
       "      <th>247</th>\n",
       "      <td>z969</td>\n",
       "      <td>45</td>\n",
       "    </tr>\n",
       "  </tbody>\n",
       "</table>\n",
       "<p>248 rows × 2 columns</p>\n",
       "</div>"
      ],
      "text/plain": [
       "    Mouse ID  Timepoint\n",
       "0       a203         45\n",
       "1       a251         45\n",
       "2       a262         45\n",
       "3       a275         45\n",
       "4       a366         30\n",
       "..       ...        ...\n",
       "243     z435         10\n",
       "244     z578         45\n",
       "245     z581         45\n",
       "246     z795         45\n",
       "247     z969         45\n",
       "\n",
       "[248 rows x 2 columns]"
      ]
     },
     "execution_count": 110,
     "metadata": {},
     "output_type": "execute_result"
    }
   ],
   "source": [
    "# Calculate the final tumor volume of each mouse across four of the treatment regimens:  \n",
    "# Capomulin, Ramicane, Infubinol, and Ceftamin\n",
    "# Start by getting the last (greatest) timepoint for each mouse\n",
    "# Merge this group df with the original DataFrame to get the tumor volume at the last timepoint\n",
    "\n",
    "\n",
    "\n",
    "# A DatFrame that has the last timepoint for each mouse ID is created using groupby.\n",
    "last_timepoint_df = cleaned_data.groupby('Mouse ID')['Timepoint'].max().reset_index()\n",
    "last_timepoint_df"
   ]
  },
  {
   "cell_type": "code",
   "execution_count": 111,
   "id": "9eae98bd-8ddc-4c70-bf5c-72c09992525d",
   "metadata": {},
   "outputs": [],
   "source": [
    "# The index of the DataFrame is reset. \n",
    "last_timepoint_df.reset_index(drop=True, inplace=True)"
   ]
  },
  {
   "cell_type": "code",
   "execution_count": 113,
   "id": "172a034a-4b37-4d65-8506-3393685366f6",
   "metadata": {},
   "outputs": [
    {
     "data": {
      "text/plain": [
       "['Capomulin', 'Ramicane', 'Infubinol', 'Ceftamin']"
      ]
     },
     "execution_count": 113,
     "metadata": {},
     "output_type": "execute_result"
    }
   ],
   "source": [
    "# The four treatment groups, Capomulin, Ramicane, Infubinol, and Ceftamin, are put in a list. \n",
    "treatment_groups = ['Capomulin', 'Ramicane', 'Infubinol', 'Ceftamin']\n",
    "treatment_groups"
   ]
  },
  {
   "cell_type": "code",
   "execution_count": 117,
   "id": "21d8910c-2b06-49b6-96a2-37292135a157",
   "metadata": {},
   "outputs": [],
   "source": [
    "# Create an empty list to store tumor volume data:\n",
    "tumor_vol_data = []\n"
   ]
  },
  {
   "cell_type": "code",
   "execution_count": 118,
   "id": "2c34b2d1-d432-4843-b63c-afd352304820",
   "metadata": {},
   "outputs": [
    {
     "name": "stdout",
     "output_type": "stream",
     "text": [
      "Capomulin Regimen:\n",
      "  IQR: 7.314067135000002\n",
      "  Lower Bound: 26.714832162499995\n",
      "  Upper Bound: 55.9711007025\n",
      "  Potential outliers: [25.47214326 23.34359787]\n",
      "\n",
      "\n",
      "Ramicane Regimen:\n",
      "  IQR: 8.325365415\n",
      "  Lower Bound: 24.1865864625\n",
      "  Upper Bound: 57.488048122500004\n",
      "  Potential outliers: [22.05012627]\n",
      "\n",
      "\n",
      "Infubinol Regimen:\n",
      "  IQR: 10.002090667500006\n",
      "  Lower Bound: 32.309217298749985\n",
      "  Upper Bound: 72.31757996875001\n",
      "  No potential outliers found\n",
      "\n",
      "\n",
      "Ceftamin Regimen:\n",
      "  IQR: 9.593010457500007\n",
      "  Lower Bound: 32.81891142624998\n",
      "  Upper Bound: 71.19095325625001\n",
      "  No potential outliers found\n",
      "\n",
      "\n"
     ]
    }
   ],
   "source": [
    "# A \"for\" loop is used to display the interquartile range (IQR) and the outliers for each treatment group.\n",
    "\n",
    "\n",
    "# List of the four treatment groups\n",
    "treatments = ['Capomulin', 'Ramicane', 'Infubinol', 'Ceftamin']\n",
    "tumor_vol_data = []\n",
    "\n",
    "for treatment in treatments:\n",
    "    # Locate the rows which contain mice on each drug and get the tumor volumes\n",
    "    treatment_df = merged_data[merged_data['Drug Regimen'] == treatment]\n",
    "    tumor_volumes = treatment_df['Tumor Volume (mm3)']\n",
    "\n",
    "    # Add subset\n",
    "    tumor_vol_data.append(tumor_volumes)\n",
    "\n",
    "    # Calculate the IQR and quantitatively determine if there are any potential outliers\n",
    "    quartiles = tumor_volumes.quantile([.25, .5, .75])\n",
    "    lowerq = quartiles[0.25]\n",
    "    upperq = quartiles[0.75]\n",
    "    iqr = upperq - lowerq\n",
    "    lower_bound = lowerq - (1.5 * iqr)\n",
    "    upper_bound = upperq + (1.5 * iqr)\n",
    "    outliers = tumor_volumes[(tumor_volumes < lower_bound) | (tumor_volumes > upper_bound)]\n",
    "\n",
    "    # Display results\n",
    "    print(f\"{treatment} Regimen:\")\n",
    "    print(f\"  IQR: {iqr}\")\n",
    "    print(f\"  Lower Bound: {lower_bound}\")\n",
    "    print(f\"  Upper Bound: {upper_bound}\")\n",
    "    if not outliers.empty:\n",
    "        print(f\"  Potential outliers: {outliers.values}\")\n",
    "    else:\n",
    "        print(\"  No potential outliers found\")\n",
    "    print(\"\\n\")\n"
   ]
  },
  {
   "cell_type": "code",
   "execution_count": 119,
   "id": "4a896f86-6c04-460a-90ee-1c6bb2147f95",
   "metadata": {},
   "outputs": [
    {
     "data": {
      "image/png": "[encoded data removed]",
      "text/plain": [
       "<Figure size 640x480 with 1 Axes>"
      ]
     },
     "metadata": {},
     "output_type": "display_data"
    }
   ],
   "source": [
    "# A box plot is generated that shows the distribution of the final tumor volume for all the mice in each treatment group.#\n",
    "\n",
    "import matplotlib.pyplot as plt\n",
    "# Treatment group names for plot labels\n",
    "treatment_groups = ['Capomulin', 'Ramicane', 'Infubinol', 'Ceftamin']\n",
    "\n",
    "# Create the box plot\n",
    "plt.boxplot(tumor_vol_data, labels=treatment_groups, flierprops=dict(marker='o', markerfacecolor='r', markersize=8))\n",
    "\n",
    "# Add titles and labels\n",
    "plt.title('Final Tumor Volume by Treatment')\n",
    "plt.ylabel('Final Tumor Volume (mm3)')\n",
    "plt.xlabel('Drug Regimen')\n",
    "\n",
    "# Show the plot\n",
    "plt.show()\n"
   ]
  },
  {
   "cell_type": "code",
   "execution_count": 106,
   "id": "8e847b9e-63f5-43d4-8bb5-397572ea363f",
   "metadata": {},
   "outputs": [
    {
     "data": {
      "text/html": [
       "<div>\n",
       "<style scoped>\n",
       "    .dataframe tbody tr th:only-of-type {\n",
       "        vertical-align: middle;\n",
       "    }\n",
       "\n",
       "    .dataframe tbody tr th {\n",
       "        vertical-align: top;\n",
       "    }\n",
       "\n",
       "    .dataframe thead th {\n",
       "        text-align: right;\n",
       "    }\n",
       "</style>\n",
       "<table border=\"1\" class=\"dataframe\">\n",
       "  <thead>\n",
       "    <tr style=\"text-align: right;\">\n",
       "      <th></th>\n",
       "      <th>Mouse ID</th>\n",
       "      <th>Timepoint</th>\n",
       "    </tr>\n",
       "  </thead>\n",
       "  <tbody>\n",
       "    <tr>\n",
       "      <th>0</th>\n",
       "      <td>a203</td>\n",
       "      <td>45</td>\n",
       "    </tr>\n",
       "    <tr>\n",
       "      <th>1</th>\n",
       "      <td>a251</td>\n",
       "      <td>45</td>\n",
       "    </tr>\n",
       "    <tr>\n",
       "      <th>2</th>\n",
       "      <td>a275</td>\n",
       "      <td>45</td>\n",
       "    </tr>\n",
       "    <tr>\n",
       "      <th>3</th>\n",
       "      <td>a411</td>\n",
       "      <td>45</td>\n",
       "    </tr>\n",
       "    <tr>\n",
       "      <th>4</th>\n",
       "      <td>a444</td>\n",
       "      <td>45</td>\n",
       "    </tr>\n",
       "    <tr>\n",
       "      <th>...</th>\n",
       "      <td>...</td>\n",
       "      <td>...</td>\n",
       "    </tr>\n",
       "    <tr>\n",
       "      <th>95</th>\n",
       "      <td>y769</td>\n",
       "      <td>45</td>\n",
       "    </tr>\n",
       "    <tr>\n",
       "      <th>96</th>\n",
       "      <td>y793</td>\n",
       "      <td>45</td>\n",
       "    </tr>\n",
       "    <tr>\n",
       "      <th>97</th>\n",
       "      <td>y865</td>\n",
       "      <td>45</td>\n",
       "    </tr>\n",
       "    <tr>\n",
       "      <th>98</th>\n",
       "      <td>z578</td>\n",
       "      <td>45</td>\n",
       "    </tr>\n",
       "    <tr>\n",
       "      <th>99</th>\n",
       "      <td>z581</td>\n",
       "      <td>45</td>\n",
       "    </tr>\n",
       "  </tbody>\n",
       "</table>\n",
       "<p>100 rows × 2 columns</p>\n",
       "</div>"
      ],
      "text/plain": [
       "   Mouse ID  Timepoint\n",
       "0      a203         45\n",
       "1      a251         45\n",
       "2      a275         45\n",
       "3      a411         45\n",
       "4      a444         45\n",
       "..      ...        ...\n",
       "95     y769         45\n",
       "96     y793         45\n",
       "97     y865         45\n",
       "98     z578         45\n",
       "99     z581         45\n",
       "\n",
       "[100 rows x 2 columns]"
      ]
     },
     "execution_count": 106,
     "metadata": {},
     "output_type": "execute_result"
    }
   ],
   "source": [
    "# Group by 'Mouse ID' and find the maximum timepoint for each mouse\n",
    "final_timepoints = filtered_df.groupby('Mouse ID')['Timepoint'].max().reset_index()\n",
    "final_timepoints"
   ]
  },
  {
   "cell_type": "markdown",
   "id": "423dee2a-6469-4f51-bf83-1fd5124f360a",
   "metadata": {},
   "source": [
    "## Line and Scatter Plots"
   ]
  },
  {
   "cell_type": "code",
   "execution_count": 124,
   "id": "6d12cc87-ef9c-4499-ad70-fdf91e30b62f",
   "metadata": {},
   "outputs": [
    {
     "data": {
      "image/png": "[encoded data removed]",
      "text/plain": [
       "<Figure size 640x480 with 1 Axes>"
      ]
     },
     "metadata": {},
     "output_type": "display_data"
    }
   ],
   "source": [
    "# Generate a line plot of tumor volume vs. time point for a single mouse treated with Capomulin\n",
    "\n",
    "import matplotlib.pyplot as plt\n",
    "\n",
    "# Assuming 'cleaned_data' is your DataFrame and it has 'Drug Regimen', 'Mouse ID', 'Timepoint', and 'Tumor Volume (mm3)' columns\n",
    "# Step 1: Filter the data for Capomulin treatment\n",
    "capomulin_data = cleaned_data[cleaned_data['Drug Regimen'] == 'Capomulin']\n",
    "\n",
    "# Step 2: Select a single mouse \n",
    "mouse_id = 'l509'  # select mouse ID as of \"l509\", the one used in Starter code\n",
    "mouse_data = capomulin_data[capomulin_data['Mouse ID'] == mouse_id]\n",
    "\n",
    "# Step 3: Plot tumor volume over time for that single mouse\n",
    "plt.plot(mouse_data['Timepoint'], mouse_data['Tumor Volume (mm3)'], marker='o')\n",
    "\n",
    "# Adding a title and labels\n",
    "plt.title(f'Capomulin treatment of mouse l509')\n",
    "plt.xlabel('Timepoint (Days)')\n",
    "plt.ylabel('Tumor Volume (mm3)')\n",
    "\n",
    "# Show the plot\n",
    "plt.show()\n"
   ]
  },
  {
   "cell_type": "code",
   "execution_count": 125,
   "id": "5379e51f-0695-49b0-ac62-0fc8f6af2fa9",
   "metadata": {},
   "outputs": [
    {
     "data": {
      "image/png": "[encoded data removed]",
      "text/plain": [
       "<Figure size 640x480 with 1 Axes>"
      ]
     },
     "metadata": {},
     "output_type": "display_data"
    }
   ],
   "source": [
    "# Generate a scatter plot of mouse weight vs. the average observed tumor volume for the entire Capomulin regimen\n",
    "\n",
    "\n",
    "import matplotlib.pyplot as plt\n",
    "\n",
    "# Assuming 'cleaned_data' is your DataFrame and it contains 'Drug Regimen', 'Mouse ID', 'Tumor Volume (mm3)', and 'Weight (g)' columns\n",
    "\n",
    "# Step 1: Filter the data for the Capomulin regimen\n",
    "capomulin_data = cleaned_data[cleaned_data['Drug Regimen'] == 'Capomulin']\n",
    "\n",
    "# Step 2: Group by mouse ID to calculate the average tumor volume\n",
    "avg_tumor_vol = capomulin_data.groupby('Mouse ID')['Tumor Volume (mm3)'].mean()\n",
    "\n",
    "# Step 3: Merge this with the mouse weight data\n",
    "mouse_weight = capomulin_data.groupby('Mouse ID')['Weight (g)'].mean()  # assuming the weight does not change\n",
    "avg_tumor_vol = avg_tumor_vol.reset_index()\n",
    "mouse_weight = mouse_weight.reset_index()\n",
    "capomulin_summary = pd.merge(avg_tumor_vol, mouse_weight, on='Mouse ID')\n",
    "\n",
    "# Step 4: Generate the scatter plot\n",
    "plt.scatter(capomulin_summary['Weight (g)'], capomulin_summary['Tumor Volume (mm3)'])\n",
    "\n",
    "# Adding a title and labels\n",
    "plt.title('Average Tumor Volume vs. Mouse Weight for the Capomulin Regimen')\n",
    "plt.xlabel('Weight (g)')\n",
    "plt.ylabel('Average Tumor Volume (mm3)')\n",
    "\n",
    "# Show the plot\n",
    "plt.show()\n",
    "\n",
    "\n"
   ]
  },
  {
   "cell_type": "markdown",
   "id": "02c2ca17-954a-4cfc-99a8-400dc959399f",
   "metadata": {},
   "source": [
    "## Correlation and Regression"
   ]
  },
  {
   "cell_type": "code",
   "execution_count": 130,
   "id": "b5c61e92-f58a-41ef-b6da-9ba503fce5c5",
   "metadata": {},
   "outputs": [
    {
     "data": {
      "image/png": "[encoded data removed]",
      "text/plain": [
       "<Figure size 640x480 with 1 Axes>"
      ]
     },
     "metadata": {},
     "output_type": "display_data"
    },
    {
     "name": "stdout",
     "output_type": "stream",
     "text": [
      "The correlation coefficient between mouse weight and average tumor volume for the Capomulin regimen is: 0.84\n",
      "The linear regression model is: y = 0.95x + 21.55\n"
     ]
    }
   ],
   "source": [
    "# Calculate the correlation coefficient and a linear regression model \n",
    "# for mouse weight and average observed tumor volume for the entire Capomulin regimen\n",
    "\n",
    "\n",
    "import matplotlib.pyplot as plt\n",
    "\n",
    "# Create a scatter plot of the average tumor volume vs. mouse weight\n",
    "plt.scatter(mouse_grouped['Weight (g)'], mouse_grouped['Tumor Volume (mm3)'])\n",
    "\n",
    "# Plot the linear regression line\n",
    "regress_values = mouse_grouped['Weight (g)'] * slope + intercept\n",
    "plt.plot(mouse_grouped['Weight (g)'], regress_values, \"r-\")\n",
    "\n",
    "# Add labels and title to the plot\n",
    "plt.xlabel('Weight (g)')\n",
    "plt.ylabel('Average Tumor Volume (mm3)')\n",
    "plt.title('Weight vs. Average Tumor Volume for Capomulin')\n",
    "plt.show()\n",
    "\n",
    "# Display the correlation coefficient and linear regression model results\n",
    "print(f\"The correlation coefficient between mouse weight and average tumor volume for the Capomulin regimen is: {correlation_coef:.2f}\")\n",
    "print(f\"The linear regression model is: y = {slope:.2f}x + {intercept:.2f}\")\n",
    "\n",
    "\n"
   ]
  },
  {
   "cell_type": "code",
   "execution_count": null,
   "id": "7ebbb75b-269e-44e3-8b6f-32c002e099a4",
   "metadata": {},
   "outputs": [],
   "source": []
  }
 ],
 "metadata": {
  "kernelspec": {
   "display_name": "Python 3 (ipykernel)",
   "language": "python",
   "name": "python3"
  },
  "language_info": {
   "codemirror_mode": {
    "name": "ipython",
    "version": 3
   },
   "file_extension": ".py",
   "mimetype": "text/x-python",
   "name": "python",
   "nbconvert_exporter": "python",
   "pygments_lexer": "ipython3",
   "version": "3.11.5"
  }
 },
 "nbformat": 4,
 "nbformat_minor": 5
}
